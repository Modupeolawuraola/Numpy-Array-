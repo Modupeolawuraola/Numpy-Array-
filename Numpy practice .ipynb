{
 "cells": [
  {
   "cell_type": "markdown",
   "id": "70053a90",
   "metadata": {},
   "source": [
    "# Numpy "
   ]
  },
  {
   "cell_type": "markdown",
   "id": "c5d5b5e8",
   "metadata": {},
   "source": [
    "Numpy is a linear algebra of python library, its incredibly fast , for linear Algebra and has building lies in C programming , numpy arrays comes in two form either VECTORS OR MATRIXES.\n",
    "Vectors are one dimensional arrays while Matrixes is 2- dimensional arrays, but note that matrix can still have one row and one columns "
   ]
  },
  {
   "cell_type": "markdown",
   "id": "7f81a4d6",
   "metadata": {},
   "source": [
    "Numpy Arrays: \n",
    "    they are the ways we use numpy in python , its comes essentuially with two flavours in python, which can be 1 dimensional arrays or vectors , \n",
    "    or 2 dimensional arrays or matrixes "
   ]
  },
  {
   "cell_type": "code",
   "execution_count": 2,
   "id": "34edc889",
   "metadata": {},
   "outputs": [],
   "source": [
    "#creating numpy array in a list \n",
    "import numpy as np \n",
    "myList = [1, 2, 3,]    #casting it in 1 demsional array \n",
    "arr= np.array(myList)"
   ]
  },
  {
   "cell_type": "code",
   "execution_count": 5,
   "id": "beaedec1",
   "metadata": {},
   "outputs": [
    {
     "data": {
      "text/plain": [
       "array([1, 2, 3])"
      ]
     },
     "execution_count": 5,
     "metadata": {},
     "output_type": "execute_result"
    }
   ],
   "source": [
    "#returning 1 dimensional array  \n",
    "arr"
   ]
  },
  {
   "cell_type": "code",
   "execution_count": 11,
   "id": "ac99adcc",
   "metadata": {},
   "outputs": [],
   "source": [
    "#casting list of list \n",
    "myMath = [[1, 2, 3],[4, 5, 6,],[7, 8, 9]]"
   ]
  },
  {
   "cell_type": "code",
   "execution_count": 12,
   "id": "c4ff6e1a",
   "metadata": {},
   "outputs": [
    {
     "data": {
      "text/plain": [
       "[[1, 2, 3], [4, 5, 6], [7, 8, 9]]"
      ]
     },
     "execution_count": 12,
     "metadata": {},
     "output_type": "execute_result"
    }
   ],
   "source": [
    "myMath"
   ]
  },
  {
   "cell_type": "code",
   "execution_count": 13,
   "id": "b1393f4b",
   "metadata": {},
   "outputs": [
    {
     "data": {
      "text/plain": [
       "array([[1, 2, 3],\n",
       "       [4, 5, 6],\n",
       "       [7, 8, 9]])"
      ]
     },
     "execution_count": 13,
     "metadata": {},
     "output_type": "execute_result"
    }
   ],
   "source": [
    "#casting it into two dimensional array 3 rows and 3 columns  \n",
    "myArr = np.array(myMath)\n",
    "\n",
    "myArr"
   ]
  },
  {
   "cell_type": "code",
   "execution_count": 15,
   "id": "23dc5bff",
   "metadata": {},
   "outputs": [],
   "source": [
    "#generating even numbers arrays using numpy , third arguments takes number of steps you want \n",
    "evenNos = np.arange(0, 20, 2)"
   ]
  },
  {
   "cell_type": "code",
   "execution_count": 16,
   "id": "eb9f8080",
   "metadata": {},
   "outputs": [
    {
     "data": {
      "text/plain": [
       "array([ 0,  2,  4,  6,  8, 10, 12, 14, 16, 18])"
      ]
     },
     "execution_count": 16,
     "metadata": {},
     "output_type": "execute_result"
    }
   ],
   "source": [
    "evenNos"
   ]
  },
  {
   "cell_type": "code",
   "execution_count": 18,
   "id": "864ef16a",
   "metadata": {},
   "outputs": [],
   "source": [
    "evenMat = np.array(evenNos)"
   ]
  },
  {
   "cell_type": "code",
   "execution_count": 19,
   "id": "b4e00d9e",
   "metadata": {},
   "outputs": [
    {
     "data": {
      "text/plain": [
       "array([ 0,  2,  4,  6,  8, 10, 12, 14, 16, 18])"
      ]
     },
     "execution_count": 19,
     "metadata": {},
     "output_type": "execute_result"
    }
   ],
   "source": [
    "evenMat"
   ]
  },
  {
   "cell_type": "code",
   "execution_count": 20,
   "id": "b099f1ed",
   "metadata": {},
   "outputs": [],
   "source": [
    "#generating arrays of all zeors \n",
    "zerosArr= np.zeros(5)"
   ]
  },
  {
   "cell_type": "code",
   "execution_count": 21,
   "id": "1197b61d",
   "metadata": {},
   "outputs": [
    {
     "data": {
      "text/plain": [
       "array([0., 0., 0., 0., 0.])"
      ]
     },
     "execution_count": 21,
     "metadata": {},
     "output_type": "execute_result"
    }
   ],
   "source": [
    "zerosArr"
   ]
  },
  {
   "cell_type": "code",
   "execution_count": 24,
   "id": "01563740",
   "metadata": {},
   "outputs": [
    {
     "data": {
      "text/plain": [
       "array([[0., 0., 0., 0., 0.],\n",
       "       [0., 0., 0., 0., 0.],\n",
       "       [0., 0., 0., 0., 0.],\n",
       "       [0., 0., 0., 0., 0.],\n",
       "       [0., 0., 0., 0., 0.]])"
      ]
     },
     "execution_count": 24,
     "metadata": {},
     "output_type": "execute_result"
    }
   ],
   "source": [
    "zerosArrs2 = np.zeros((5, 5))\n",
    "zerosArrs2"
   ]
  },
  {
   "cell_type": "code",
   "execution_count": 25,
   "id": "a3da99b7",
   "metadata": {},
   "outputs": [],
   "source": [
    "zerosArr3= np.zeros((2, 3))"
   ]
  },
  {
   "cell_type": "code",
   "execution_count": 26,
   "id": "30749334",
   "metadata": {},
   "outputs": [
    {
     "data": {
      "text/plain": [
       "array([[0., 0., 0.],\n",
       "       [0., 0., 0.]])"
      ]
     },
     "execution_count": 26,
     "metadata": {},
     "output_type": "execute_result"
    }
   ],
   "source": [
    "zerosArr3"
   ]
  },
  {
   "cell_type": "code",
   "execution_count": 28,
   "id": "a99f1028",
   "metadata": {},
   "outputs": [],
   "source": [
    "onesArr = np.ones((4, 5))"
   ]
  },
  {
   "cell_type": "code",
   "execution_count": 29,
   "id": "4cd0b33e",
   "metadata": {},
   "outputs": [
    {
     "data": {
      "text/plain": [
       "array([[1., 1., 1., 1., 1.],\n",
       "       [1., 1., 1., 1., 1.],\n",
       "       [1., 1., 1., 1., 1.],\n",
       "       [1., 1., 1., 1., 1.]])"
      ]
     },
     "execution_count": 29,
     "metadata": {},
     "output_type": "execute_result"
    }
   ],
   "source": [
    "onesArr"
   ]
  },
  {
   "cell_type": "code",
   "execution_count": 30,
   "id": "91e7159f",
   "metadata": {},
   "outputs": [],
   "source": [
    "#genrating using linspace, showimg third argument has nos of spaces you wanted \n",
    "linNos = np.linspace(0, 5, 10)"
   ]
  },
  {
   "cell_type": "code",
   "execution_count": 32,
   "id": "5a56a71a",
   "metadata": {},
   "outputs": [
    {
     "data": {
      "text/plain": [
       "array([0.        , 0.55555556, 1.11111111, 1.66666667, 2.22222222,\n",
       "       2.77777778, 3.33333333, 3.88888889, 4.44444444, 5.        ])"
      ]
     },
     "execution_count": 32,
     "metadata": {},
     "output_type": "execute_result"
    }
   ],
   "source": [
    "linNos"
   ]
  },
  {
   "cell_type": "code",
   "execution_count": 33,
   "id": "5d75c3f9",
   "metadata": {},
   "outputs": [],
   "source": [
    "#returning 100 evenly space 1dimenstional array \n",
    "linNos1 = np.linspace(0, 5, 100)"
   ]
  },
  {
   "cell_type": "code",
   "execution_count": 34,
   "id": "441113f3",
   "metadata": {},
   "outputs": [
    {
     "data": {
      "text/plain": [
       "array([0.        , 0.05050505, 0.1010101 , 0.15151515, 0.2020202 ,\n",
       "       0.25252525, 0.3030303 , 0.35353535, 0.4040404 , 0.45454545,\n",
       "       0.50505051, 0.55555556, 0.60606061, 0.65656566, 0.70707071,\n",
       "       0.75757576, 0.80808081, 0.85858586, 0.90909091, 0.95959596,\n",
       "       1.01010101, 1.06060606, 1.11111111, 1.16161616, 1.21212121,\n",
       "       1.26262626, 1.31313131, 1.36363636, 1.41414141, 1.46464646,\n",
       "       1.51515152, 1.56565657, 1.61616162, 1.66666667, 1.71717172,\n",
       "       1.76767677, 1.81818182, 1.86868687, 1.91919192, 1.96969697,\n",
       "       2.02020202, 2.07070707, 2.12121212, 2.17171717, 2.22222222,\n",
       "       2.27272727, 2.32323232, 2.37373737, 2.42424242, 2.47474747,\n",
       "       2.52525253, 2.57575758, 2.62626263, 2.67676768, 2.72727273,\n",
       "       2.77777778, 2.82828283, 2.87878788, 2.92929293, 2.97979798,\n",
       "       3.03030303, 3.08080808, 3.13131313, 3.18181818, 3.23232323,\n",
       "       3.28282828, 3.33333333, 3.38383838, 3.43434343, 3.48484848,\n",
       "       3.53535354, 3.58585859, 3.63636364, 3.68686869, 3.73737374,\n",
       "       3.78787879, 3.83838384, 3.88888889, 3.93939394, 3.98989899,\n",
       "       4.04040404, 4.09090909, 4.14141414, 4.19191919, 4.24242424,\n",
       "       4.29292929, 4.34343434, 4.39393939, 4.44444444, 4.49494949,\n",
       "       4.54545455, 4.5959596 , 4.64646465, 4.6969697 , 4.74747475,\n",
       "       4.7979798 , 4.84848485, 4.8989899 , 4.94949495, 5.        ])"
      ]
     },
     "execution_count": 34,
     "metadata": {},
     "output_type": "execute_result"
    }
   ],
   "source": [
    "linNos1"
   ]
  },
  {
   "cell_type": "code",
   "execution_count": 36,
   "id": "2de420b4",
   "metadata": {},
   "outputs": [],
   "source": [
    "#eye , is used to in linear algebra, 1 diagonal is making it 1\n",
    "Lin = np.eye(5)"
   ]
  },
  {
   "cell_type": "code",
   "execution_count": 37,
   "id": "ae40c195",
   "metadata": {},
   "outputs": [
    {
     "data": {
      "text/plain": [
       "array([[1., 0., 0., 0., 0.],\n",
       "       [0., 1., 0., 0., 0.],\n",
       "       [0., 0., 1., 0., 0.],\n",
       "       [0., 0., 0., 1., 0.],\n",
       "       [0., 0., 0., 0., 1.]])"
      ]
     },
     "execution_count": 37,
     "metadata": {},
     "output_type": "execute_result"
    }
   ],
   "source": [
    "Lin"
   ]
  },
  {
   "cell_type": "code",
   "execution_count": 38,
   "id": "bd6cda51",
   "metadata": {},
   "outputs": [
    {
     "data": {
      "text/plain": [
       "array([0.58719464, 0.81276342, 0.00625287, 0.83780061, 0.63633074])"
      ]
     },
     "execution_count": 38,
     "metadata": {},
     "output_type": "execute_result"
    }
   ],
   "source": [
    "#genrating random numbers \n",
    "np.random.rand(5)"
   ]
  },
  {
   "cell_type": "code",
   "execution_count": 39,
   "id": "bfc559e5",
   "metadata": {},
   "outputs": [
    {
     "data": {
      "text/plain": [
       "array([-1.20927703, -0.76530621, -0.22394422,  2.02883633, -0.14587737])"
      ]
     },
     "execution_count": 39,
     "metadata": {},
     "output_type": "execute_result"
    }
   ],
   "source": [
    "#returning random numbers that are around normal standard distributions \n",
    "np.random.randn(5)"
   ]
  },
  {
   "cell_type": "code",
   "execution_count": 40,
   "id": "dc6a07c0",
   "metadata": {},
   "outputs": [
    {
     "data": {
      "text/plain": [
       "array([[-1.03556343,  0.69896865,  1.3562664 , -1.11012424],\n",
       "       [-0.97131127,  1.69528408,  0.16613566, -2.16611025],\n",
       "       [ 0.36073796,  0.42415422, -0.19816336,  0.48829346],\n",
       "       [-0.28598443, -2.39637007, -1.22215667,  1.91271962]])"
      ]
     },
     "execution_count": 40,
     "metadata": {},
     "output_type": "execute_result"
    }
   ],
   "source": [
    "np.random.randn(4,4)"
   ]
  },
  {
   "cell_type": "code",
   "execution_count": 43,
   "id": "d6177178",
   "metadata": {},
   "outputs": [
    {
     "data": {
      "text/plain": [
       "array([27, 77,  7, 88,  2, 97, 13, 80, 73, 88])"
      ]
     },
     "execution_count": 43,
     "metadata": {},
     "output_type": "execute_result"
    }
   ],
   "source": [
    "#genrating random distribution for an integer \n",
    "np.random.randint(1, 100, 10)"
   ]
  },
  {
   "cell_type": "code",
   "execution_count": 44,
   "id": "14d13380",
   "metadata": {},
   "outputs": [
    {
     "data": {
      "text/plain": [
       "5"
      ]
     },
     "execution_count": 44,
     "metadata": {},
     "output_type": "execute_result"
    }
   ],
   "source": [
    "np.random.randint(0, 10)"
   ]
  },
  {
   "cell_type": "code",
   "execution_count": 45,
   "id": "511b4b11",
   "metadata": {},
   "outputs": [
    {
     "data": {
      "text/plain": [
       "array([6, 0])"
      ]
     },
     "execution_count": 45,
     "metadata": {},
     "output_type": "execute_result"
    }
   ],
   "source": [
    "np.random.randint(0, 10, 2)"
   ]
  },
  {
   "cell_type": "code",
   "execution_count": 52,
   "id": "d33c9dbc",
   "metadata": {},
   "outputs": [],
   "source": [
    "#checking application of random intergers array in 1 dimensional array \n",
    "arr = np.arange(25)"
   ]
  },
  {
   "cell_type": "code",
   "execution_count": 53,
   "id": "82525468",
   "metadata": {},
   "outputs": [
    {
     "data": {
      "text/plain": [
       "array([ 0,  1,  2,  3,  4,  5,  6,  7,  8,  9, 10, 11, 12, 13, 14, 15, 16,\n",
       "       17, 18, 19, 20, 21, 22, 23, 24])"
      ]
     },
     "execution_count": 53,
     "metadata": {},
     "output_type": "execute_result"
    }
   ],
   "source": [
    "arr"
   ]
  },
  {
   "cell_type": "code",
   "execution_count": 57,
   "id": "489fe0f7",
   "metadata": {},
   "outputs": [],
   "source": [
    "raarra = np.random.randint(0, 50, 10)"
   ]
  },
  {
   "cell_type": "code",
   "execution_count": 58,
   "id": "069fa50e",
   "metadata": {},
   "outputs": [
    {
     "data": {
      "text/plain": [
       "array([14,  9, 23, 27, 36, 38, 31, 17, 16, 49])"
      ]
     },
     "execution_count": 58,
     "metadata": {},
     "output_type": "execute_result"
    }
   ],
   "source": [
    "raarra"
   ]
  },
  {
   "cell_type": "code",
   "execution_count": 59,
   "id": "649e3f68",
   "metadata": {},
   "outputs": [],
   "source": [
    "#reshaping an array by passing the numbers of rows and columns you want \n",
    "reshapeArr = arr.reshape(5,5 )"
   ]
  },
  {
   "cell_type": "code",
   "execution_count": 60,
   "id": "36e61a03",
   "metadata": {},
   "outputs": [
    {
     "data": {
      "text/plain": [
       "array([[ 0,  1,  2,  3,  4],\n",
       "       [ 5,  6,  7,  8,  9],\n",
       "       [10, 11, 12, 13, 14],\n",
       "       [15, 16, 17, 18, 19],\n",
       "       [20, 21, 22, 23, 24]])"
      ]
     },
     "execution_count": 60,
     "metadata": {},
     "output_type": "execute_result"
    }
   ],
   "source": [
    "reshapeArr"
   ]
  },
  {
   "cell_type": "code",
   "execution_count": 61,
   "id": "62486a49",
   "metadata": {},
   "outputs": [
    {
     "data": {
      "text/plain": [
       "49"
      ]
     },
     "execution_count": 61,
     "metadata": {},
     "output_type": "execute_result"
    }
   ],
   "source": [
    "#checking for the max values in the array \n",
    "raarra.max()"
   ]
  },
  {
   "cell_type": "code",
   "execution_count": 63,
   "id": "52124969",
   "metadata": {},
   "outputs": [
    {
     "data": {
      "text/plain": [
       "9"
      ]
     },
     "execution_count": 63,
     "metadata": {},
     "output_type": "execute_result"
    }
   ],
   "source": [
    "#checking for minumum values of the array \n",
    "raarra.min()"
   ]
  },
  {
   "cell_type": "code",
   "execution_count": 65,
   "id": "6855ca44",
   "metadata": {},
   "outputs": [
    {
     "data": {
      "text/plain": [
       "array([14,  9, 23, 27, 36, 38, 31, 17, 16, 49])"
      ]
     },
     "execution_count": 65,
     "metadata": {},
     "output_type": "execute_result"
    }
   ],
   "source": [
    "#rechecking the array, checking for the psoition of minimum and maximum value  \n",
    "raarra"
   ]
  },
  {
   "cell_type": "code",
   "execution_count": 66,
   "id": "bf993a73",
   "metadata": {},
   "outputs": [
    {
     "data": {
      "text/plain": [
       "9"
      ]
     },
     "execution_count": 66,
     "metadata": {},
     "output_type": "execute_result"
    }
   ],
   "source": [
    "#returning the index location of max values \n",
    "raarra.argmax()"
   ]
  },
  {
   "cell_type": "code",
   "execution_count": 68,
   "id": "7b26a00e",
   "metadata": {},
   "outputs": [
    {
     "data": {
      "text/plain": [
       "1"
      ]
     },
     "execution_count": 68,
     "metadata": {},
     "output_type": "execute_result"
    }
   ],
   "source": [
    "#returning the index location of minimum values \n",
    "raarra.argmin()"
   ]
  },
  {
   "cell_type": "code",
   "execution_count": 72,
   "id": "556cbf67",
   "metadata": {},
   "outputs": [
    {
     "data": {
      "text/plain": [
       "(3, 3)"
      ]
     },
     "execution_count": 72,
     "metadata": {},
     "output_type": "execute_result"
    }
   ],
   "source": [
    "#if you wanna firgure out the shape of a vector \n",
    "myArr.shape"
   ]
  },
  {
   "cell_type": "code",
   "execution_count": 73,
   "id": "0722789a",
   "metadata": {},
   "outputs": [
    {
     "data": {
      "text/plain": [
       "(25,)"
      ]
     },
     "execution_count": 73,
     "metadata": {},
     "output_type": "execute_result"
    }
   ],
   "source": [
    "arr.shape"
   ]
  },
  {
   "cell_type": "code",
   "execution_count": 75,
   "id": "ee613dc4",
   "metadata": {},
   "outputs": [],
   "source": [
    "#reshaping arr to 5dimensuional array \n",
    "arrRe= arr.reshape(5,5)"
   ]
  },
  {
   "cell_type": "code",
   "execution_count": 76,
   "id": "e874279e",
   "metadata": {},
   "outputs": [
    {
     "data": {
      "text/plain": [
       "array([[ 0,  1,  2,  3,  4],\n",
       "       [ 5,  6,  7,  8,  9],\n",
       "       [10, 11, 12, 13, 14],\n",
       "       [15, 16, 17, 18, 19],\n",
       "       [20, 21, 22, 23, 24]])"
      ]
     },
     "execution_count": 76,
     "metadata": {},
     "output_type": "execute_result"
    }
   ],
   "source": [
    "arrRe"
   ]
  },
  {
   "cell_type": "code",
   "execution_count": 78,
   "id": "1604ff06",
   "metadata": {},
   "outputs": [
    {
     "data": {
      "text/plain": [
       "(5, 5)"
      ]
     },
     "execution_count": 78,
     "metadata": {},
     "output_type": "execute_result"
    }
   ],
   "source": [
    "arrRe.shape"
   ]
  },
  {
   "cell_type": "code",
   "execution_count": 79,
   "id": "cf5baee5",
   "metadata": {},
   "outputs": [
    {
     "data": {
      "text/plain": [
       "dtype('int32')"
      ]
     },
     "execution_count": 79,
     "metadata": {},
     "output_type": "execute_result"
    }
   ],
   "source": [
    "#checking for dtypes we have in an array\n",
    "arr.dtype"
   ]
  },
  {
   "cell_type": "code",
   "execution_count": 81,
   "id": "48ed1f4a",
   "metadata": {},
   "outputs": [
    {
     "data": {
      "text/plain": [
       "2"
      ]
     },
     "execution_count": 81,
     "metadata": {},
     "output_type": "execute_result"
    }
   ],
   "source": [
    "from random import randint \n",
    "randint(2, 10)"
   ]
  },
  {
   "cell_type": "markdown",
   "id": "96f32abe",
   "metadata": {},
   "source": [
    "# indexinga nd selection for numpy arrays "
   ]
  },
  {
   "cell_type": "code",
   "execution_count": 86,
   "id": "533fac78",
   "metadata": {},
   "outputs": [],
   "source": [
    "import numpy as np \n",
    "\n",
    "#creating a sample array\n",
    "arr = np.arange (0, 11)"
   ]
  },
  {
   "cell_type": "code",
   "execution_count": 87,
   "id": "b52f74d3",
   "metadata": {},
   "outputs": [
    {
     "data": {
      "text/plain": [
       "array([ 0,  1,  2,  3,  4,  5,  6,  7,  8,  9, 10])"
      ]
     },
     "execution_count": 87,
     "metadata": {},
     "output_type": "execute_result"
    }
   ],
   "source": [
    "arr"
   ]
  },
  {
   "cell_type": "code",
   "execution_count": 88,
   "id": "fbd79733",
   "metadata": {},
   "outputs": [
    {
     "data": {
      "text/plain": [
       "8"
      ]
     },
     "execution_count": 88,
     "metadata": {},
     "output_type": "execute_result"
    }
   ],
   "source": [
    "#calling a value through index in numpy \n",
    "arr[8]"
   ]
  },
  {
   "cell_type": "code",
   "execution_count": 90,
   "id": "4bf569f7",
   "metadata": {},
   "outputs": [
    {
     "data": {
      "text/plain": [
       "array([3, 4, 5])"
      ]
     },
     "execution_count": 90,
     "metadata": {},
     "output_type": "execute_result"
    }
   ],
   "source": [
    "#calling muplity values through indexing \n",
    "arr[3:6]"
   ]
  },
  {
   "cell_type": "code",
   "execution_count": 91,
   "id": "82d68333",
   "metadata": {},
   "outputs": [
    {
     "data": {
      "text/plain": [
       "array([1, 2, 3, 4])"
      ]
     },
     "execution_count": 91,
     "metadata": {},
     "output_type": "execute_result"
    }
   ],
   "source": [
    "arr[1:5]"
   ]
  },
  {
   "cell_type": "code",
   "execution_count": 92,
   "id": "187d0ae4",
   "metadata": {},
   "outputs": [
    {
     "data": {
      "text/plain": [
       "array([0, 1, 2, 3, 4])"
      ]
     },
     "execution_count": 92,
     "metadata": {},
     "output_type": "execute_result"
    }
   ],
   "source": [
    "arr[0:5]"
   ]
  },
  {
   "cell_type": "code",
   "execution_count": 93,
   "id": "d1122e8d",
   "metadata": {},
   "outputs": [
    {
     "data": {
      "text/plain": [
       "array([0, 1, 2, 3, 4, 5])"
      ]
     },
     "execution_count": 93,
     "metadata": {},
     "output_type": "execute_result"
    }
   ],
   "source": [
    "arr[:6]  #grabbing everything before index 6"
   ]
  },
  {
   "cell_type": "code",
   "execution_count": 94,
   "id": "7fc42a8e",
   "metadata": {},
   "outputs": [
    {
     "data": {
      "text/plain": [
       "array([ 5,  6,  7,  8,  9, 10])"
      ]
     },
     "execution_count": 94,
     "metadata": {},
     "output_type": "execute_result"
    }
   ],
   "source": [
    "arr[5:]  #grabing everything beyond index 5"
   ]
  },
  {
   "cell_type": "markdown",
   "id": "c2cf534c",
   "metadata": {},
   "source": [
    "numpy array is different from normal python list bcous its has the ability to broadcast  "
   ]
  },
  {
   "cell_type": "code",
   "execution_count": 137,
   "id": "b3c9bdec",
   "metadata": {},
   "outputs": [],
   "source": [
    "arr[1:5] = 100"
   ]
  },
  {
   "cell_type": "code",
   "execution_count": 138,
   "id": "464f6d94",
   "metadata": {},
   "outputs": [
    {
     "data": {
      "text/plain": [
       "array([ 99, 100, 100, 100, 100,  99,   6,   7,   8,   9,  10])"
      ]
     },
     "execution_count": 138,
     "metadata": {},
     "output_type": "execute_result"
    }
   ],
   "source": [
    "arr"
   ]
  },
  {
   "cell_type": "code",
   "execution_count": 106,
   "id": "4bcf5a4c",
   "metadata": {},
   "outputs": [],
   "source": [
    "arr= np.arange(0, 11)"
   ]
  },
  {
   "cell_type": "code",
   "execution_count": 114,
   "id": "1db7c570",
   "metadata": {},
   "outputs": [
    {
     "data": {
      "text/plain": [
       "array([  0, 100, 100, 100, 100,   5,   6,   7,   8,   9,  10])"
      ]
     },
     "execution_count": 114,
     "metadata": {},
     "output_type": "execute_result"
    }
   ],
   "source": [
    "arr"
   ]
  },
  {
   "cell_type": "code",
   "execution_count": 115,
   "id": "a47b21f5",
   "metadata": {},
   "outputs": [],
   "source": [
    "#showing imporatnt note on slices of an array \n",
    "slicesOfArray = arr[0:6]\n"
   ]
  },
  {
   "cell_type": "code",
   "execution_count": 116,
   "id": "585f2177",
   "metadata": {},
   "outputs": [
    {
     "data": {
      "text/plain": [
       "array([  0, 100, 100, 100, 100,   5])"
      ]
     },
     "execution_count": 116,
     "metadata": {},
     "output_type": "execute_result"
    }
   ],
   "source": [
    "slicesOfArray"
   ]
  },
  {
   "cell_type": "code",
   "execution_count": 118,
   "id": "463b7a8f",
   "metadata": {},
   "outputs": [],
   "source": [
    "#TYRYING TO BROADCAST SLICES OF ARRAY \n",
    "slicesOfArray[:] = 99"
   ]
  },
  {
   "cell_type": "code",
   "execution_count": 119,
   "id": "8e4d3f10",
   "metadata": {},
   "outputs": [
    {
     "data": {
      "text/plain": [
       "array([99, 99, 99, 99, 99, 99])"
      ]
     },
     "execution_count": 119,
     "metadata": {},
     "output_type": "execute_result"
    }
   ],
   "source": [
    "slicesOfArray"
   ]
  },
  {
   "cell_type": "code",
   "execution_count": 120,
   "id": "b5c87d04",
   "metadata": {},
   "outputs": [
    {
     "data": {
      "text/plain": [
       "array([99, 99, 99, 99, 99, 99,  6,  7,  8,  9, 10])"
      ]
     },
     "execution_count": 120,
     "metadata": {},
     "output_type": "execute_result"
    }
   ],
   "source": [
    "arr"
   ]
  },
  {
   "cell_type": "code",
   "execution_count": 121,
   "id": "2d7141e9",
   "metadata": {},
   "outputs": [],
   "source": [
    "#to specifically copy an arr in a range of numbers in an array \n",
    "arrCopy = arr.copy()"
   ]
  },
  {
   "cell_type": "code",
   "execution_count": 122,
   "id": "418d5b64",
   "metadata": {},
   "outputs": [
    {
     "data": {
      "text/plain": [
       "array([99, 99, 99, 99, 99, 99,  6,  7,  8,  9, 10])"
      ]
     },
     "execution_count": 122,
     "metadata": {},
     "output_type": "execute_result"
    }
   ],
   "source": [
    "arrCopy"
   ]
  },
  {
   "cell_type": "code",
   "execution_count": 124,
   "id": "a8702348",
   "metadata": {},
   "outputs": [],
   "source": [
    "#changing array copy by broadcasting 100 into array \n",
    "arrCopy[:] = 100"
   ]
  },
  {
   "cell_type": "code",
   "execution_count": 126,
   "id": "5caf5bb1",
   "metadata": {},
   "outputs": [
    {
     "data": {
      "text/plain": [
       "array([100, 100, 100, 100, 100, 100, 100, 100, 100, 100, 100])"
      ]
     },
     "execution_count": 126,
     "metadata": {},
     "output_type": "execute_result"
    }
   ],
   "source": [
    "arrCopy"
   ]
  },
  {
   "cell_type": "code",
   "execution_count": 127,
   "id": "66ffe467",
   "metadata": {},
   "outputs": [
    {
     "data": {
      "text/plain": [
       "array([99, 99, 99, 99, 99, 99,  6,  7,  8,  9, 10])"
      ]
     },
     "execution_count": 127,
     "metadata": {},
     "output_type": "execute_result"
    }
   ],
   "source": [
    "#original array is still unaffecting by the broadcating \n",
    "arr"
   ]
  },
  {
   "cell_type": "markdown",
   "id": "dd8a1473",
   "metadata": {},
   "source": [
    "Indexing a 2 dimensional array "
   ]
  },
  {
   "cell_type": "code",
   "execution_count": 134,
   "id": "0a055c00",
   "metadata": {},
   "outputs": [],
   "source": [
    "#creating a 2 dimensional arrray \n",
    "arr_2d = np.array([[5, 8, 10], [15, 18, 20], [25, 28, 30]])"
   ]
  },
  {
   "cell_type": "code",
   "execution_count": 135,
   "id": "3824cdc7",
   "metadata": {},
   "outputs": [
    {
     "data": {
      "text/plain": [
       "array([[ 5,  8, 10],\n",
       "       [15, 18, 20],\n",
       "       [25, 28, 30]])"
      ]
     },
     "execution_count": 135,
     "metadata": {},
     "output_type": "execute_result"
    }
   ],
   "source": [
    "arr_2d"
   ]
  },
  {
   "cell_type": "markdown",
   "id": "debdc160",
   "metadata": {},
   "source": [
    "#two ways of grabbing and array from 2 dimensional array , \n",
    "double [] format and single [] format "
   ]
  },
  {
   "cell_type": "code",
   "execution_count": 139,
   "id": "00b892ac",
   "metadata": {},
   "outputs": [
    {
     "data": {
      "text/plain": [
       "array([[ 5,  8, 10],\n",
       "       [15, 18, 20],\n",
       "       [25, 28, 30]])"
      ]
     },
     "execution_count": 139,
     "metadata": {},
     "output_type": "execute_result"
    }
   ],
   "source": [
    "arr_2d"
   ]
  },
  {
   "cell_type": "code",
   "execution_count": 140,
   "id": "3b8595b0",
   "metadata": {},
   "outputs": [
    {
     "data": {
      "text/plain": [
       "5"
      ]
     },
     "execution_count": 140,
     "metadata": {},
     "output_type": "execute_result"
    }
   ],
   "source": [
    "arr_2d[0, 0]    #first 0 indicate row why second indicate column "
   ]
  },
  {
   "cell_type": "code",
   "execution_count": 141,
   "id": "46b7c1e7",
   "metadata": {},
   "outputs": [
    {
     "data": {
      "text/plain": [
       "5"
      ]
     },
     "execution_count": 141,
     "metadata": {},
     "output_type": "execute_result"
    }
   ],
   "source": [
    "#or its can be \n",
    "arr_2d[0][0]"
   ]
  },
  {
   "cell_type": "code",
   "execution_count": 142,
   "id": "c7eea5e2",
   "metadata": {},
   "outputs": [
    {
     "data": {
      "text/plain": [
       "array([ 5,  8, 10])"
      ]
     },
     "execution_count": 142,
     "metadata": {},
     "output_type": "execute_result"
    }
   ],
   "source": [
    "#indexing the entire row back \n",
    "arr_2d[0]"
   ]
  },
  {
   "cell_type": "code",
   "execution_count": 143,
   "id": "84fcdf4a",
   "metadata": {},
   "outputs": [
    {
     "data": {
      "text/plain": [
       "18"
      ]
     },
     "execution_count": 143,
     "metadata": {},
     "output_type": "execute_result"
    }
   ],
   "source": [
    "#grabbing 18 \n",
    "arr_2d[1][1]"
   ]
  },
  {
   "cell_type": "code",
   "execution_count": 144,
   "id": "719a0144",
   "metadata": {},
   "outputs": [
    {
     "data": {
      "text/plain": [
       "15"
      ]
     },
     "execution_count": 144,
     "metadata": {},
     "output_type": "execute_result"
    }
   ],
   "source": [
    "#grabbing 15\n",
    "arr_2d[1][0]"
   ]
  },
  {
   "cell_type": "code",
   "execution_count": 146,
   "id": "0cd9ede7",
   "metadata": {},
   "outputs": [
    {
     "data": {
      "text/plain": [
       "20"
      ]
     },
     "execution_count": 146,
     "metadata": {},
     "output_type": "execute_result"
    }
   ],
   "source": [
    "#grabbing 20\n",
    "arr_2d[1][2]"
   ]
  },
  {
   "cell_type": "code",
   "execution_count": 147,
   "id": "25dcf263",
   "metadata": {},
   "outputs": [
    {
     "data": {
      "text/plain": [
       "25"
      ]
     },
     "execution_count": 147,
     "metadata": {},
     "output_type": "execute_result"
    }
   ],
   "source": [
    "#grabbing 25\n",
    "arr_2d[2][0]"
   ]
  },
  {
   "cell_type": "code",
   "execution_count": 148,
   "id": "871cf61d",
   "metadata": {},
   "outputs": [
    {
     "data": {
      "text/plain": [
       "28"
      ]
     },
     "execution_count": 148,
     "metadata": {},
     "output_type": "execute_result"
    }
   ],
   "source": [
    "#grabbing 28\n",
    "arr_2d[2][1]"
   ]
  },
  {
   "cell_type": "code",
   "execution_count": 150,
   "id": "98439079",
   "metadata": {},
   "outputs": [
    {
     "data": {
      "text/plain": [
       "30"
      ]
     },
     "execution_count": 150,
     "metadata": {},
     "output_type": "execute_result"
    }
   ],
   "source": [
    "#grabbing 30 \n",
    "arr_2d[2][2]"
   ]
  },
  {
   "cell_type": "code",
   "execution_count": 152,
   "id": "7b721599",
   "metadata": {},
   "outputs": [
    {
     "data": {
      "text/plain": [
       "array([[ 8, 10],\n",
       "       [18, 20]])"
      ]
     },
     "execution_count": 152,
     "metadata": {},
     "output_type": "execute_result"
    }
   ],
   "source": [
    "#grabbing more than one in the matrix \n",
    "arr_2d[:2, 1:]"
   ]
  },
  {
   "cell_type": "code",
   "execution_count": 154,
   "id": "849e8d44",
   "metadata": {},
   "outputs": [
    {
     "data": {
      "text/plain": [
       "array([[ 5,  8, 10]])"
      ]
     },
     "execution_count": 154,
     "metadata": {},
     "output_type": "execute_result"
    }
   ],
   "source": [
    "arr_2d[:1, 0:]"
   ]
  },
  {
   "cell_type": "code",
   "execution_count": 157,
   "id": "c0fbbfd4",
   "metadata": {},
   "outputs": [
    {
     "data": {
      "text/plain": [
       "array([[ 5,  8, 10],\n",
       "       [15, 18, 20]])"
      ]
     },
     "execution_count": 157,
     "metadata": {},
     "output_type": "execute_result"
    }
   ],
   "source": [
    "arr_2d[:2, 0:]"
   ]
  },
  {
   "cell_type": "code",
   "execution_count": 158,
   "id": "1d629bda",
   "metadata": {},
   "outputs": [
    {
     "data": {
      "text/plain": [
       "array([ 1,  2,  3,  4,  5,  6,  7,  8,  9, 10])"
      ]
     },
     "execution_count": 158,
     "metadata": {},
     "output_type": "execute_result"
    }
   ],
   "source": [
    "arr =np.arange(1, 11)\n",
    "arr"
   ]
  },
  {
   "cell_type": "code",
   "execution_count": 160,
   "id": "c95b594b",
   "metadata": {},
   "outputs": [],
   "source": [
    "#comparism of an array \n",
    "boolArr = arr>5"
   ]
  },
  {
   "cell_type": "code",
   "execution_count": 161,
   "id": "95d4ac95",
   "metadata": {},
   "outputs": [
    {
     "data": {
      "text/plain": [
       "array([False, False, False, False, False,  True,  True,  True,  True,\n",
       "        True])"
      ]
     },
     "execution_count": 161,
     "metadata": {},
     "output_type": "execute_result"
    }
   ],
   "source": [
    "boolArr"
   ]
  },
  {
   "cell_type": "code",
   "execution_count": 162,
   "id": "13060b63",
   "metadata": {},
   "outputs": [
    {
     "data": {
      "text/plain": [
       "array([ 6,  7,  8,  9, 10])"
      ]
     },
     "execution_count": 162,
     "metadata": {},
     "output_type": "execute_result"
    }
   ],
   "source": [
    "arr[boolArr]"
   ]
  },
  {
   "cell_type": "code",
   "execution_count": 163,
   "id": "c848c27a",
   "metadata": {},
   "outputs": [
    {
     "data": {
      "text/plain": [
       "array([ 6,  7,  8,  9, 10])"
      ]
     },
     "execution_count": 163,
     "metadata": {},
     "output_type": "execute_result"
    }
   ],
   "source": [
    "arr[arr > 5]  #syntax used in conditional selections "
   ]
  },
  {
   "cell_type": "code",
   "execution_count": 164,
   "id": "b3e8e428",
   "metadata": {},
   "outputs": [
    {
     "data": {
      "text/plain": [
       "array([1, 2])"
      ]
     },
     "execution_count": 164,
     "metadata": {},
     "output_type": "execute_result"
    }
   ],
   "source": [
    "#knowing all the array that are less than 3 \n",
    "arr[arr< 3]"
   ]
  },
  {
   "cell_type": "code",
   "execution_count": 167,
   "id": "ba22115e",
   "metadata": {},
   "outputs": [],
   "source": [
    "#creating a new 2d array \n",
    "arr_2d = np.arange(50).reshape(5, 10)"
   ]
  },
  {
   "cell_type": "code",
   "execution_count": 168,
   "id": "7e11caae",
   "metadata": {},
   "outputs": [
    {
     "data": {
      "text/plain": [
       "array([[ 0,  1,  2,  3,  4,  5,  6,  7,  8,  9],\n",
       "       [10, 11, 12, 13, 14, 15, 16, 17, 18, 19],\n",
       "       [20, 21, 22, 23, 24, 25, 26, 27, 28, 29],\n",
       "       [30, 31, 32, 33, 34, 35, 36, 37, 38, 39],\n",
       "       [40, 41, 42, 43, 44, 45, 46, 47, 48, 49]])"
      ]
     },
     "execution_count": 168,
     "metadata": {},
     "output_type": "execute_result"
    }
   ],
   "source": [
    "arr_2d"
   ]
  },
  {
   "cell_type": "code",
   "execution_count": 172,
   "id": "f4c9164d",
   "metadata": {},
   "outputs": [
    {
     "data": {
      "text/plain": [
       "5"
      ]
     },
     "execution_count": 172,
     "metadata": {},
     "output_type": "execute_result"
    }
   ],
   "source": [
    "#grabbing from 2d array \n",
    "arr_2d[0, 5]"
   ]
  },
  {
   "cell_type": "code",
   "execution_count": 175,
   "id": "e0995c48",
   "metadata": {},
   "outputs": [
    {
     "data": {
      "text/plain": [
       "array([[13, 14],\n",
       "       [23, 24]])"
      ]
     },
     "execution_count": 175,
     "metadata": {},
     "output_type": "execute_result"
    }
   ],
   "source": [
    "arr_2d[1:3, 3:5 ]"
   ]
  },
  {
   "cell_type": "code",
   "execution_count": 176,
   "id": "b0b78714",
   "metadata": {},
   "outputs": [
    {
     "data": {
      "text/plain": [
       "array([[10, 11, 12, 13, 14, 15, 16, 17, 18, 19],\n",
       "       [20, 21, 22, 23, 24, 25, 26, 27, 28, 29]])"
      ]
     },
     "execution_count": 176,
     "metadata": {},
     "output_type": "execute_result"
    }
   ],
   "source": [
    "arr_2d[1:3]"
   ]
  },
  {
   "cell_type": "markdown",
   "id": "b8872cb4",
   "metadata": {},
   "source": [
    "# NUMPY OPERATIONS "
   ]
  },
  {
   "cell_type": "markdown",
   "id": "ae244904",
   "metadata": {},
   "source": [
    "Array with Array\n",
    "Array with scalar \n",
    "universal Array Functions "
   ]
  },
  {
   "cell_type": "code",
   "execution_count": 178,
   "id": "3399d04b",
   "metadata": {},
   "outputs": [],
   "source": [
    "import numpy as np \n",
    "arr = np.arange (0, 11)"
   ]
  },
  {
   "cell_type": "code",
   "execution_count": 179,
   "id": "4a166bed",
   "metadata": {},
   "outputs": [
    {
     "data": {
      "text/plain": [
       "array([ 0,  1,  2,  3,  4,  5,  6,  7,  8,  9, 10])"
      ]
     },
     "execution_count": 179,
     "metadata": {},
     "output_type": "execute_result"
    }
   ],
   "source": [
    "arr"
   ]
  },
  {
   "cell_type": "code",
   "execution_count": 180,
   "id": "f0174082",
   "metadata": {},
   "outputs": [],
   "source": [
    "#adding two arrays together based on element by element \n",
    "additionArray = arr + arr"
   ]
  },
  {
   "cell_type": "code",
   "execution_count": 182,
   "id": "36df2d01",
   "metadata": {},
   "outputs": [
    {
     "data": {
      "text/plain": [
       "array([ 0,  2,  4,  6,  8, 10, 12, 14, 16, 18, 20])"
      ]
     },
     "execution_count": 182,
     "metadata": {},
     "output_type": "execute_result"
    }
   ],
   "source": [
    "additionArray"
   ]
  },
  {
   "cell_type": "code",
   "execution_count": 183,
   "id": "ca7b2974",
   "metadata": {},
   "outputs": [],
   "source": [
    "#subracting two arrays based on element by element  \n",
    "subractingArray = arr - arr "
   ]
  },
  {
   "cell_type": "code",
   "execution_count": 184,
   "id": "0d601d15",
   "metadata": {},
   "outputs": [
    {
     "data": {
      "text/plain": [
       "array([0, 0, 0, 0, 0, 0, 0, 0, 0, 0, 0])"
      ]
     },
     "execution_count": 184,
     "metadata": {},
     "output_type": "execute_result"
    }
   ],
   "source": [
    "subractingArray"
   ]
  },
  {
   "cell_type": "code",
   "execution_count": 185,
   "id": "742ff58d",
   "metadata": {},
   "outputs": [],
   "source": [
    "#multiplying two arrays together \n",
    "multiplyArray = arr * arr"
   ]
  },
  {
   "cell_type": "code",
   "execution_count": 187,
   "id": "47d975e1",
   "metadata": {},
   "outputs": [
    {
     "data": {
      "text/plain": [
       "array([  0,   1,   4,   9,  16,  25,  36,  49,  64,  81, 100])"
      ]
     },
     "execution_count": 187,
     "metadata": {},
     "output_type": "execute_result"
    }
   ],
   "source": [
    "multiplyArray"
   ]
  },
  {
   "cell_type": "code",
   "execution_count": 189,
   "id": "df91fba0",
   "metadata": {},
   "outputs": [],
   "source": [
    "#performing operation in arrat with scalar entity \n",
    "#adding 100 to every element in the array \n",
    "adding100 = arr + 100"
   ]
  },
  {
   "cell_type": "code",
   "execution_count": 190,
   "id": "de19220c",
   "metadata": {},
   "outputs": [
    {
     "data": {
      "text/plain": [
       "array([100, 101, 102, 103, 104, 105, 106, 107, 108, 109, 110])"
      ]
     },
     "execution_count": 190,
     "metadata": {},
     "output_type": "execute_result"
    }
   ],
   "source": [
    "adding100"
   ]
  },
  {
   "cell_type": "code",
   "execution_count": 191,
   "id": "c003e6c5",
   "metadata": {},
   "outputs": [
    {
     "data": {
      "text/plain": [
       "array([   0,  100,  200,  300,  400,  500,  600,  700,  800,  900, 1000])"
      ]
     },
     "execution_count": 191,
     "metadata": {},
     "output_type": "execute_result"
    }
   ],
   "source": [
    " #muplyting 100 to every element \n",
    "multiply100 = arr * 100 \n",
    "multiply100"
   ]
  },
  {
   "cell_type": "code",
   "execution_count": 192,
   "id": "197743d3",
   "metadata": {},
   "outputs": [
    {
     "data": {
      "text/plain": [
       "array([-100,  -99,  -98,  -97,  -96,  -95,  -94,  -93,  -92,  -91,  -90])"
      ]
     },
     "execution_count": 192,
     "metadata": {},
     "output_type": "execute_result"
    }
   ],
   "source": [
    "#subracting 100 from every element \n",
    "subract100 = arr - 100\n",
    "subract100"
   ]
  },
  {
   "cell_type": "code",
   "execution_count": 194,
   "id": "79876ed7",
   "metadata": {},
   "outputs": [
    {
     "ename": "ZeroDivisionError",
     "evalue": "division by zero",
     "output_type": "error",
     "traceback": [
      "\u001b[1;31m---------------------------------------------------------------------------\u001b[0m",
      "\u001b[1;31mZeroDivisionError\u001b[0m                         Traceback (most recent call last)",
      "\u001b[1;32m~\\AppData\\Local\\Temp/ipykernel_8796/3003197415.py\u001b[0m in \u001b[0;36m<module>\u001b[1;34m\u001b[0m\n\u001b[0;32m      1\u001b[0m \u001b[1;31m#common error numpy will issues\u001b[0m\u001b[1;33m\u001b[0m\u001b[1;33m\u001b[0m\u001b[0m\n\u001b[1;32m----> 2\u001b[1;33m \u001b[1;36m1\u001b[0m\u001b[1;33m/\u001b[0m\u001b[1;36m0\u001b[0m\u001b[1;33m\u001b[0m\u001b[1;33m\u001b[0m\u001b[0m\n\u001b[0m",
      "\u001b[1;31mZeroDivisionError\u001b[0m: division by zero"
     ]
    }
   ],
   "source": [
    "#common error numpy will issues \n",
    "1/0 "
   ]
  },
  {
   "cell_type": "code",
   "execution_count": 195,
   "id": "ef964589",
   "metadata": {},
   "outputs": [
    {
     "name": "stderr",
     "output_type": "stream",
     "text": [
      "C:\\Users\\HP\\AppData\\Local\\Temp/ipykernel_8796/3068588409.py:1: RuntimeWarning: invalid value encountered in true_divide\n",
      "  arr/arr\n"
     ]
    },
    {
     "data": {
      "text/plain": [
       "array([nan,  1.,  1.,  1.,  1.,  1.,  1.,  1.,  1.,  1.,  1.])"
      ]
     },
     "execution_count": 195,
     "metadata": {},
     "output_type": "execute_result"
    }
   ],
   "source": [
    "#other warning numpy will issues \n",
    "arr/arr "
   ]
  },
  {
   "cell_type": "code",
   "execution_count": 197,
   "id": "f87fdb8c",
   "metadata": {},
   "outputs": [
    {
     "name": "stderr",
     "output_type": "stream",
     "text": [
      "C:\\Users\\HP\\AppData\\Local\\Temp/ipykernel_8796/1990854363.py:2: RuntimeWarning: divide by zero encountered in true_divide\n",
      "  1/arr\n"
     ]
    },
    {
     "data": {
      "text/plain": [
       "array([       inf, 1.        , 0.5       , 0.33333333, 0.25      ,\n",
       "       0.2       , 0.16666667, 0.14285714, 0.125     , 0.11111111,\n",
       "       0.1       ])"
      ]
     },
     "execution_count": 197,
     "metadata": {},
     "output_type": "execute_result"
    }
   ],
   "source": [
    "#other warning issues by numpy \n",
    "1/arr "
   ]
  },
  {
   "cell_type": "code",
   "execution_count": 198,
   "id": "c96c53b6",
   "metadata": {},
   "outputs": [
    {
     "data": {
      "text/plain": [
       "array([  0,   1,   4,   9,  16,  25,  36,  49,  64,  81, 100], dtype=int32)"
      ]
     },
     "execution_count": 198,
     "metadata": {},
     "output_type": "execute_result"
    }
   ],
   "source": [
    "#doing arrays with exponent \n",
    "arr **2"
   ]
  },
  {
   "cell_type": "markdown",
   "id": "41e03d29",
   "metadata": {},
   "source": [
    "Describing universal array functions "
   ]
  },
  {
   "cell_type": "code",
   "execution_count": 200,
   "id": "01f774a7",
   "metadata": {},
   "outputs": [],
   "source": [
    "squareArray = np.sqrt(arr)"
   ]
  },
  {
   "cell_type": "code",
   "execution_count": 202,
   "id": "d8533dd9",
   "metadata": {},
   "outputs": [
    {
     "data": {
      "text/plain": [
       "array([0.        , 1.        , 1.41421356, 1.73205081, 2.        ,\n",
       "       2.23606798, 2.44948974, 2.64575131, 2.82842712, 3.        ,\n",
       "       3.16227766])"
      ]
     },
     "execution_count": 202,
     "metadata": {},
     "output_type": "execute_result"
    }
   ],
   "source": [
    "squareArray"
   ]
  },
  {
   "cell_type": "code",
   "execution_count": 203,
   "id": "3d338633",
   "metadata": {},
   "outputs": [],
   "source": [
    "#taking the exponential of an array \n",
    "exponetArray = np.exp(arr)"
   ]
  },
  {
   "cell_type": "code",
   "execution_count": 204,
   "id": "c5cc7af8",
   "metadata": {},
   "outputs": [
    {
     "data": {
      "text/plain": [
       "array([1.00000000e+00, 2.71828183e+00, 7.38905610e+00, 2.00855369e+01,\n",
       "       5.45981500e+01, 1.48413159e+02, 4.03428793e+02, 1.09663316e+03,\n",
       "       2.98095799e+03, 8.10308393e+03, 2.20264658e+04])"
      ]
     },
     "execution_count": 204,
     "metadata": {},
     "output_type": "execute_result"
    }
   ],
   "source": [
    "exponetArray"
   ]
  },
  {
   "cell_type": "code",
   "execution_count": 205,
   "id": "e48a3b3d",
   "metadata": {},
   "outputs": [],
   "source": [
    "#checking the maximun of array \n",
    "maxArray = np.max(arr)"
   ]
  },
  {
   "cell_type": "code",
   "execution_count": 206,
   "id": "05aaf5af",
   "metadata": {},
   "outputs": [
    {
     "data": {
      "text/plain": [
       "10"
      ]
     },
     "execution_count": 206,
     "metadata": {},
     "output_type": "execute_result"
    }
   ],
   "source": [
    "maxArray"
   ]
  },
  {
   "cell_type": "code",
   "execution_count": 207,
   "id": "014dda3d",
   "metadata": {},
   "outputs": [],
   "source": [
    "#checking the minimum array \n",
    "minArray = np.min(arr)"
   ]
  },
  {
   "cell_type": "code",
   "execution_count": 208,
   "id": "eba55cc5",
   "metadata": {},
   "outputs": [
    {
     "data": {
      "text/plain": [
       "0"
      ]
     },
     "execution_count": 208,
     "metadata": {},
     "output_type": "execute_result"
    }
   ],
   "source": [
    "minArray"
   ]
  },
  {
   "cell_type": "code",
   "execution_count": 209,
   "id": "1f819a3d",
   "metadata": {},
   "outputs": [],
   "source": [
    "#passing sin in an array \n",
    "sinArray = np.sin(arr)"
   ]
  },
  {
   "cell_type": "code",
   "execution_count": 210,
   "id": "03d4cc84",
   "metadata": {},
   "outputs": [
    {
     "data": {
      "text/plain": [
       "array([ 0.        ,  0.84147098,  0.90929743,  0.14112001, -0.7568025 ,\n",
       "       -0.95892427, -0.2794155 ,  0.6569866 ,  0.98935825,  0.41211849,\n",
       "       -0.54402111])"
      ]
     },
     "execution_count": 210,
     "metadata": {},
     "output_type": "execute_result"
    }
   ],
   "source": [
    "sinArray"
   ]
  },
  {
   "cell_type": "code",
   "execution_count": 211,
   "id": "47de6a45",
   "metadata": {},
   "outputs": [
    {
     "name": "stderr",
     "output_type": "stream",
     "text": [
      "C:\\Users\\HP\\AppData\\Local\\Temp/ipykernel_8796/150106484.py:2: RuntimeWarning: divide by zero encountered in log\n",
      "  logArr = np.log(arr)\n"
     ]
    }
   ],
   "source": [
    "#getting lorigthm of the array \n",
    "logArr = np.log(arr)"
   ]
  },
  {
   "cell_type": "code",
   "execution_count": 212,
   "id": "e3995c93",
   "metadata": {},
   "outputs": [
    {
     "data": {
      "text/plain": [
       "array([      -inf, 0.        , 0.69314718, 1.09861229, 1.38629436,\n",
       "       1.60943791, 1.79175947, 1.94591015, 2.07944154, 2.19722458,\n",
       "       2.30258509])"
      ]
     },
     "execution_count": 212,
     "metadata": {},
     "output_type": "execute_result"
    }
   ],
   "source": [
    "logArr"
   ]
  },
  {
   "cell_type": "code",
   "execution_count": null,
   "id": "babff229",
   "metadata": {},
   "outputs": [],
   "source": []
  }
 ],
 "metadata": {
  "kernelspec": {
   "display_name": "Python 3 (ipykernel)",
   "language": "python",
   "name": "python3"
  },
  "language_info": {
   "codemirror_mode": {
    "name": "ipython",
    "version": 3
   },
   "file_extension": ".py",
   "mimetype": "text/x-python",
   "name": "python",
   "nbconvert_exporter": "python",
   "pygments_lexer": "ipython3",
   "version": "3.9.7"
  }
 },
 "nbformat": 4,
 "nbformat_minor": 5
}
